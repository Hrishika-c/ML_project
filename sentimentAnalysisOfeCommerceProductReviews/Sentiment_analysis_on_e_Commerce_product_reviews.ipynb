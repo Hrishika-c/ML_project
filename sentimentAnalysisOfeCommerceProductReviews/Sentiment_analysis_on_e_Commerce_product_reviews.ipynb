{
  "cells": [
    {
      "cell_type": "code",
      "execution_count": null,
      "id": "2d2ec6df-be91-4fe1-8960-e096e85125e8",
      "metadata": {
        "id": "2d2ec6df-be91-4fe1-8960-e096e85125e8",
        "outputId": "a7d608f8-c048-4f8f-ed97-e5cad775afaa",
        "colab": {
          "base_uri": "https://localhost:8080/"
        }
      },
      "outputs": [
        {
          "output_type": "stream",
          "name": "stderr",
          "text": [
            "[nltk_data] Downloading package stopwords to /root/nltk_data...\n",
            "[nltk_data]   Unzipping corpora/stopwords.zip.\n",
            "[nltk_data] Downloading package punkt to /root/nltk_data...\n",
            "[nltk_data]   Unzipping tokenizers/punkt.zip.\n"
          ]
        }
      ],
      "source": [
        "import pandas as pd\n",
        "import numpy as np\n",
        "import re\n",
        "import seaborn as sns\n",
        "import matplotlib.pyplot as plt\n",
        "from matplotlib import style\n",
        "\n",
        "import nltk\n",
        "nltk.download('stopwords')\n",
        "nltk.download('punkt')\n",
        "style.use('ggplot')\n",
        "\n",
        "from nltk.tokenize import word_tokenize\n",
        "from nltk.stem import PorterStemmer\n",
        "from nltk.corpus import stopwords\n",
        "stop_words = set(stopwords.words('english'))\n",
        "\n",
        "from sklearn.feature_extraction.text import CountVectorizer\n",
        "from sklearn.model_selection import train_test_split\n",
        "from sklearn.linear_model import LogisticRegression\n",
        "from sklearn.metrics import accuracy_score, classification_report, confusion_matrix, ConfusionMatrixDisplay"
      ]
    },
    {
      "cell_type": "code",
      "execution_count": null,
      "id": "5b0f1d1c-3860-462f-88cc-5c87a5f03fa5",
      "metadata": {
        "id": "5b0f1d1c-3860-462f-88cc-5c87a5f03fa5"
      },
      "outputs": [],
      "source": [
        "df=pd.read_csv(\"Dataset-SA.csv\")   # read the csv file"
      ]
    },
    {
      "cell_type": "code",
      "execution_count": null,
      "id": "824487d7-818d-462b-9c9a-06f4fc95249c",
      "metadata": {
        "id": "824487d7-818d-462b-9c9a-06f4fc95249c",
        "outputId": "153653e0-e7aa-44a9-f225-93b46c9c5cd5"
      },
      "outputs": [
        {
          "data": {
            "text/html": [
              "<div>\n",
              "<style scoped>\n",
              "    .dataframe tbody tr th:only-of-type {\n",
              "        vertical-align: middle;\n",
              "    }\n",
              "\n",
              "    .dataframe tbody tr th {\n",
              "        vertical-align: top;\n",
              "    }\n",
              "\n",
              "    .dataframe thead th {\n",
              "        text-align: right;\n",
              "    }\n",
              "</style>\n",
              "<table border=\"1\" class=\"dataframe\">\n",
              "  <thead>\n",
              "    <tr style=\"text-align: right;\">\n",
              "      <th></th>\n",
              "      <th>product_name</th>\n",
              "      <th>product_price</th>\n",
              "      <th>Rate</th>\n",
              "      <th>Review</th>\n",
              "      <th>Summary</th>\n",
              "      <th>Sentiment</th>\n",
              "    </tr>\n",
              "  </thead>\n",
              "  <tbody>\n",
              "    <tr>\n",
              "      <th>0</th>\n",
              "      <td>Candes 12 L Room/Personal Air Cooler??????(Whi...</td>\n",
              "      <td>3999</td>\n",
              "      <td>5</td>\n",
              "      <td>super!</td>\n",
              "      <td>great cooler excellent air flow and for this p...</td>\n",
              "      <td>positive</td>\n",
              "    </tr>\n",
              "    <tr>\n",
              "      <th>1</th>\n",
              "      <td>Candes 12 L Room/Personal Air Cooler??????(Whi...</td>\n",
              "      <td>3999</td>\n",
              "      <td>5</td>\n",
              "      <td>awesome</td>\n",
              "      <td>best budget 2 fit cooler nice cooling</td>\n",
              "      <td>positive</td>\n",
              "    </tr>\n",
              "    <tr>\n",
              "      <th>2</th>\n",
              "      <td>Candes 12 L Room/Personal Air Cooler??????(Whi...</td>\n",
              "      <td>3999</td>\n",
              "      <td>3</td>\n",
              "      <td>fair</td>\n",
              "      <td>the quality is good but the power of air is de...</td>\n",
              "      <td>positive</td>\n",
              "    </tr>\n",
              "    <tr>\n",
              "      <th>3</th>\n",
              "      <td>Candes 12 L Room/Personal Air Cooler??????(Whi...</td>\n",
              "      <td>3999</td>\n",
              "      <td>1</td>\n",
              "      <td>useless product</td>\n",
              "      <td>very bad product its a only a fan</td>\n",
              "      <td>negative</td>\n",
              "    </tr>\n",
              "    <tr>\n",
              "      <th>4</th>\n",
              "      <td>Candes 12 L Room/Personal Air Cooler??????(Whi...</td>\n",
              "      <td>3999</td>\n",
              "      <td>3</td>\n",
              "      <td>fair</td>\n",
              "      <td>ok ok product</td>\n",
              "      <td>neutral</td>\n",
              "    </tr>\n",
              "  </tbody>\n",
              "</table>\n",
              "</div>"
            ],
            "text/plain": [
              "                                        product_name product_price Rate  \\\n",
              "0  Candes 12 L Room/Personal Air Cooler??????(Whi...          3999    5   \n",
              "1  Candes 12 L Room/Personal Air Cooler??????(Whi...          3999    5   \n",
              "2  Candes 12 L Room/Personal Air Cooler??????(Whi...          3999    3   \n",
              "3  Candes 12 L Room/Personal Air Cooler??????(Whi...          3999    1   \n",
              "4  Candes 12 L Room/Personal Air Cooler??????(Whi...          3999    3   \n",
              "\n",
              "            Review                                            Summary  \\\n",
              "0           super!  great cooler excellent air flow and for this p...   \n",
              "1          awesome              best budget 2 fit cooler nice cooling   \n",
              "2             fair  the quality is good but the power of air is de...   \n",
              "3  useless product                  very bad product its a only a fan   \n",
              "4             fair                                      ok ok product   \n",
              "\n",
              "  Sentiment  \n",
              "0  positive  \n",
              "1  positive  \n",
              "2  positive  \n",
              "3  negative  \n",
              "4   neutral  "
            ]
          },
          "execution_count": 3,
          "metadata": {},
          "output_type": "execute_result"
        }
      ],
      "source": [
        "df.head(5) # Fetch First 5 data"
      ]
    },
    {
      "cell_type": "code",
      "execution_count": null,
      "id": "383546bc-16cb-4fa1-8c09-126cd8f6d0ba",
      "metadata": {
        "id": "383546bc-16cb-4fa1-8c09-126cd8f6d0ba",
        "outputId": "bd518aba-528f-4e4b-aad7-a030be473e53"
      },
      "outputs": [
        {
          "name": "stdout",
          "output_type": "stream",
          "text": [
            "<class 'pandas.core.frame.DataFrame'>\n",
            "RangeIndex: 205052 entries, 0 to 205051\n",
            "Data columns (total 6 columns):\n",
            " #   Column         Non-Null Count   Dtype \n",
            "---  ------         --------------   ----- \n",
            " 0   product_name   205052 non-null  object\n",
            " 1   product_price  205052 non-null  object\n",
            " 2   Rate           205052 non-null  object\n",
            " 3   Review         180388 non-null  object\n",
            " 4   Summary        205041 non-null  object\n",
            " 5   Sentiment      205052 non-null  object\n",
            "dtypes: object(6)\n",
            "memory usage: 9.4+ MB\n"
          ]
        }
      ],
      "source": [
        "df.info() # get the information about the dataset"
      ]
    },
    {
      "cell_type": "code",
      "execution_count": null,
      "id": "f84e55a9-814f-4e18-8d72-f1b74a89a96d",
      "metadata": {
        "id": "f84e55a9-814f-4e18-8d72-f1b74a89a96d",
        "outputId": "4bcde5f0-ef30-457a-b279-f9c88972a0d2"
      },
      "outputs": [
        {
          "data": {
            "text/plain": [
              "product_name         0\n",
              "product_price        0\n",
              "Rate                 0\n",
              "Review           24664\n",
              "Summary             11\n",
              "Sentiment            0\n",
              "dtype: int64"
            ]
          },
          "execution_count": 5,
          "metadata": {},
          "output_type": "execute_result"
        }
      ],
      "source": [
        "df.isnull().sum() # Check there is any null value"
      ]
    },
    {
      "cell_type": "code",
      "execution_count": null,
      "id": "19b4c863-17fa-4f31-958e-a4eb4e466ed6",
      "metadata": {
        "id": "19b4c863-17fa-4f31-958e-a4eb4e466ed6"
      },
      "outputs": [],
      "source": [
        "df.drop(['Review'],axis=1,inplace=True) # Drop the Review column for contain large Null value"
      ]
    },
    {
      "cell_type": "code",
      "execution_count": null,
      "id": "fc53b0cd-9af6-4724-a808-3bb0a26d401a",
      "metadata": {
        "id": "fc53b0cd-9af6-4724-a808-3bb0a26d401a"
      },
      "outputs": [],
      "source": [
        "df1=df.dropna(axis=0) # to remove the null values from row"
      ]
    },
    {
      "cell_type": "code",
      "execution_count": null,
      "id": "a0cf33b1-55f1-46cb-a415-da2e184924c6",
      "metadata": {
        "id": "a0cf33b1-55f1-46cb-a415-da2e184924c6",
        "outputId": "1fbec0c1-5e9c-4cfd-9ecf-0b33e77023bc"
      },
      "outputs": [
        {
          "data": {
            "text/html": [
              "<div>\n",
              "<style scoped>\n",
              "    .dataframe tbody tr th:only-of-type {\n",
              "        vertical-align: middle;\n",
              "    }\n",
              "\n",
              "    .dataframe tbody tr th {\n",
              "        vertical-align: top;\n",
              "    }\n",
              "\n",
              "    .dataframe thead th {\n",
              "        text-align: right;\n",
              "    }\n",
              "</style>\n",
              "<table border=\"1\" class=\"dataframe\">\n",
              "  <thead>\n",
              "    <tr style=\"text-align: right;\">\n",
              "      <th></th>\n",
              "      <th>product_name</th>\n",
              "      <th>product_price</th>\n",
              "      <th>Rate</th>\n",
              "      <th>Summary</th>\n",
              "      <th>Sentiment</th>\n",
              "    </tr>\n",
              "  </thead>\n",
              "  <tbody>\n",
              "    <tr>\n",
              "      <th>0</th>\n",
              "      <td>Candes 12 L Room/Personal Air Cooler??????(Whi...</td>\n",
              "      <td>3999</td>\n",
              "      <td>5</td>\n",
              "      <td>great cooler excellent air flow and for this p...</td>\n",
              "      <td>positive</td>\n",
              "    </tr>\n",
              "  </tbody>\n",
              "</table>\n",
              "</div>"
            ],
            "text/plain": [
              "                                        product_name product_price Rate  \\\n",
              "0  Candes 12 L Room/Personal Air Cooler??????(Whi...          3999    5   \n",
              "\n",
              "                                             Summary Sentiment  \n",
              "0  great cooler excellent air flow and for this p...  positive  "
            ]
          },
          "execution_count": 8,
          "metadata": {},
          "output_type": "execute_result"
        }
      ],
      "source": [
        "df1[:1]  # fetch singel row"
      ]
    },
    {
      "cell_type": "code",
      "execution_count": null,
      "id": "cce72290-789f-44fc-94b1-c071d5b11734",
      "metadata": {
        "id": "cce72290-789f-44fc-94b1-c071d5b11734",
        "outputId": "7903eee3-d316-41b3-f26e-fe6522959c07"
      },
      "outputs": [
        {
          "name": "stdout",
          "output_type": "stream",
          "text": [
            "<class 'pandas.core.frame.DataFrame'>\n",
            "Index: 205041 entries, 0 to 205051\n",
            "Data columns (total 5 columns):\n",
            " #   Column         Non-Null Count   Dtype \n",
            "---  ------         --------------   ----- \n",
            " 0   product_name   205041 non-null  object\n",
            " 1   product_price  205041 non-null  object\n",
            " 2   Rate           205041 non-null  object\n",
            " 3   Summary        205041 non-null  object\n",
            " 4   Sentiment      205041 non-null  object\n",
            "dtypes: object(5)\n",
            "memory usage: 9.4+ MB\n"
          ]
        }
      ],
      "source": [
        "df1.info()  #after remove null values Check there is any null value"
      ]
    },
    {
      "cell_type": "code",
      "execution_count": null,
      "id": "c0b1d756-250f-423b-8e1f-7911879cb8c8",
      "metadata": {
        "id": "c0b1d756-250f-423b-8e1f-7911879cb8c8"
      },
      "outputs": [],
      "source": [
        "text_df=df.drop(['product_name','product_price','Rate'],axis=1)  # Remove more 3 column"
      ]
    },
    {
      "cell_type": "code",
      "execution_count": null,
      "id": "ad3bff54-d687-45c9-a812-09ae4158f984",
      "metadata": {
        "id": "ad3bff54-d687-45c9-a812-09ae4158f984",
        "outputId": "261d4920-388d-479c-b8a9-ff284db9a987"
      },
      "outputs": [
        {
          "data": {
            "text/html": [
              "<div>\n",
              "<style scoped>\n",
              "    .dataframe tbody tr th:only-of-type {\n",
              "        vertical-align: middle;\n",
              "    }\n",
              "\n",
              "    .dataframe tbody tr th {\n",
              "        vertical-align: top;\n",
              "    }\n",
              "\n",
              "    .dataframe thead th {\n",
              "        text-align: right;\n",
              "    }\n",
              "</style>\n",
              "<table border=\"1\" class=\"dataframe\">\n",
              "  <thead>\n",
              "    <tr style=\"text-align: right;\">\n",
              "      <th></th>\n",
              "      <th>Summary</th>\n",
              "      <th>Sentiment</th>\n",
              "    </tr>\n",
              "  </thead>\n",
              "  <tbody>\n",
              "    <tr>\n",
              "      <th>0</th>\n",
              "      <td>great cooler excellent air flow and for this p...</td>\n",
              "      <td>positive</td>\n",
              "    </tr>\n",
              "    <tr>\n",
              "      <th>1</th>\n",
              "      <td>best budget 2 fit cooler nice cooling</td>\n",
              "      <td>positive</td>\n",
              "    </tr>\n",
              "    <tr>\n",
              "      <th>2</th>\n",
              "      <td>the quality is good but the power of air is de...</td>\n",
              "      <td>positive</td>\n",
              "    </tr>\n",
              "    <tr>\n",
              "      <th>3</th>\n",
              "      <td>very bad product its a only a fan</td>\n",
              "      <td>negative</td>\n",
              "    </tr>\n",
              "    <tr>\n",
              "      <th>4</th>\n",
              "      <td>ok ok product</td>\n",
              "      <td>neutral</td>\n",
              "    </tr>\n",
              "    <tr>\n",
              "      <th>...</th>\n",
              "      <td>...</td>\n",
              "      <td>...</td>\n",
              "    </tr>\n",
              "    <tr>\n",
              "      <th>205047</th>\n",
              "      <td>good product</td>\n",
              "      <td>positive</td>\n",
              "    </tr>\n",
              "    <tr>\n",
              "      <th>205048</th>\n",
              "      <td>nice</td>\n",
              "      <td>positive</td>\n",
              "    </tr>\n",
              "    <tr>\n",
              "      <th>205049</th>\n",
              "      <td>very nice and fast delivery</td>\n",
              "      <td>positive</td>\n",
              "    </tr>\n",
              "    <tr>\n",
              "      <th>205050</th>\n",
              "      <td>awesome product</td>\n",
              "      <td>positive</td>\n",
              "    </tr>\n",
              "    <tr>\n",
              "      <th>205051</th>\n",
              "      <td>very good but mixing bowl not included is one ...</td>\n",
              "      <td>neutral</td>\n",
              "    </tr>\n",
              "  </tbody>\n",
              "</table>\n",
              "<p>205052 rows × 2 columns</p>\n",
              "</div>"
            ],
            "text/plain": [
              "                                                  Summary Sentiment\n",
              "0       great cooler excellent air flow and for this p...  positive\n",
              "1                   best budget 2 fit cooler nice cooling  positive\n",
              "2       the quality is good but the power of air is de...  positive\n",
              "3                       very bad product its a only a fan  negative\n",
              "4                                           ok ok product   neutral\n",
              "...                                                   ...       ...\n",
              "205047                                       good product  positive\n",
              "205048                                               nice  positive\n",
              "205049                        very nice and fast delivery  positive\n",
              "205050                                    awesome product  positive\n",
              "205051  very good but mixing bowl not included is one ...   neutral\n",
              "\n",
              "[205052 rows x 2 columns]"
            ]
          },
          "execution_count": 11,
          "metadata": {},
          "output_type": "execute_result"
        }
      ],
      "source": [
        "text_df   # Fetch the dataset"
      ]
    },
    {
      "cell_type": "code",
      "execution_count": null,
      "id": "c6498a47-131a-4372-a4ce-d720d32ee7fe",
      "metadata": {
        "id": "c6498a47-131a-4372-a4ce-d720d32ee7fe"
      },
      "outputs": [],
      "source": [
        "mapping = {\n",
        "    'positive': 1,\n",
        "    'negative': -1,\n",
        "    'neutral': 0\n",
        "}\n",
        "\n",
        "text_df['sentiment']=text_df['Sentiment'].map(mapping)   # Use map function to set value for +ve,-ve and neutral"
      ]
    },
    {
      "cell_type": "code",
      "execution_count": null,
      "id": "9ebd3add-76c7-4e8c-abe4-d2c33d093ef0",
      "metadata": {
        "id": "9ebd3add-76c7-4e8c-abe4-d2c33d093ef0",
        "outputId": "38351237-568a-414f-e523-e1e903b6bb05"
      },
      "outputs": [
        {
          "data": {
            "text/html": [
              "<div>\n",
              "<style scoped>\n",
              "    .dataframe tbody tr th:only-of-type {\n",
              "        vertical-align: middle;\n",
              "    }\n",
              "\n",
              "    .dataframe tbody tr th {\n",
              "        vertical-align: top;\n",
              "    }\n",
              "\n",
              "    .dataframe thead th {\n",
              "        text-align: right;\n",
              "    }\n",
              "</style>\n",
              "<table border=\"1\" class=\"dataframe\">\n",
              "  <thead>\n",
              "    <tr style=\"text-align: right;\">\n",
              "      <th></th>\n",
              "      <th>Summary</th>\n",
              "      <th>Sentiment</th>\n",
              "      <th>sentiment</th>\n",
              "    </tr>\n",
              "  </thead>\n",
              "  <tbody>\n",
              "    <tr>\n",
              "      <th>0</th>\n",
              "      <td>great cooler excellent air flow and for this p...</td>\n",
              "      <td>positive</td>\n",
              "      <td>1</td>\n",
              "    </tr>\n",
              "    <tr>\n",
              "      <th>1</th>\n",
              "      <td>best budget 2 fit cooler nice cooling</td>\n",
              "      <td>positive</td>\n",
              "      <td>1</td>\n",
              "    </tr>\n",
              "  </tbody>\n",
              "</table>\n",
              "</div>"
            ],
            "text/plain": [
              "                                             Summary Sentiment  sentiment\n",
              "0  great cooler excellent air flow and for this p...  positive          1\n",
              "1              best budget 2 fit cooler nice cooling  positive          1"
            ]
          },
          "execution_count": 13,
          "metadata": {},
          "output_type": "execute_result"
        }
      ],
      "source": [
        "text_df.head(2)   # fetch first 2 data set"
      ]
    },
    {
      "cell_type": "code",
      "execution_count": null,
      "id": "cac738a0",
      "metadata": {
        "id": "cac738a0",
        "outputId": "bf0f4ae3-8c86-4f33-ccdd-69e961cdd4a9"
      },
      "outputs": [
        {
          "data": {
            "image/png": "[encoded data removed]",
            "text/plain": [
              "<Figure size 1000x500 with 1 Axes>"
            ]
          },
          "metadata": {},
          "output_type": "display_data"
        }
      ],
      "source": [
        "# plot the (+ve,-ve and neutral)\n",
        "fig = plt.figure(figsize=(10,5))\n",
        "sns.countplot(x='Sentiment', data = text_df)\n",
        "plt.show()"
      ]
    },
    {
      "cell_type": "code",
      "execution_count": null,
      "id": "fae0a9c4-64a0-4b86-a1f7-5c0b8654a7f2",
      "metadata": {
        "id": "fae0a9c4-64a0-4b86-a1f7-5c0b8654a7f2",
        "outputId": "efbf9944-1e53-4370-939e-7ade5c663e35"
      },
      "outputs": [
        {
          "name": "stderr",
          "output_type": "stream",
          "text": [
            "[nltk_data] Downloading package stopwords to\n",
            "[nltk_data]     C:\\Users\\Tusarjyoti\\AppData\\Roaming\\nltk_data...\n",
            "[nltk_data]   Package stopwords is already up-to-date!\n",
            "[nltk_data] Downloading package punkt to\n",
            "[nltk_data]     C:\\Users\\Tusarjyoti\\AppData\\Roaming\\nltk_data...\n",
            "[nltk_data]   Package punkt is already up-to-date!\n"
          ]
        },
        {
          "data": {
            "text/plain": [
              "True"
            ]
          },
          "execution_count": 15,
          "metadata": {},
          "output_type": "execute_result"
        }
      ],
      "source": [
        "import nltk             # Download the stop words\n",
        "nltk.download('stopwords')\n",
        "nltk.download('punkt')"
      ]
    },
    {
      "cell_type": "code",
      "execution_count": null,
      "id": "6931ab6c-7c81-4a24-81f5-02effb5526ef",
      "metadata": {
        "id": "6931ab6c-7c81-4a24-81f5-02effb5526ef"
      },
      "outputs": [],
      "source": [
        "def data_processing(text):\n",
        "    text = re.sub(r'[^\\w\\s]','',text) # Removes any characters that are not alphanumeric or whitespace from the text.\n",
        "    text_tokens = word_tokenize(text) # Tokeinze the Data\n",
        "    filtered_text = [w for w in text_tokens if not w in stop_words]\n",
        "    return \" \".join(filtered_text)"
      ]
    },
    {
      "cell_type": "code",
      "execution_count": null,
      "id": "6cebec9a-3428-4058-abb2-9501770ff29a",
      "metadata": {
        "id": "6cebec9a-3428-4058-abb2-9501770ff29a"
      },
      "outputs": [],
      "source": [
        "# text_df.Summary = text_df['Summary'].apply(data_processing) # Apply the Data processing to the all Tweets"
      ]
    },
    {
      "cell_type": "code",
      "execution_count": null,
      "id": "9f9678c4-f276-44d4-95ef-9dd062d20156",
      "metadata": {
        "id": "9f9678c4-f276-44d4-95ef-9dd062d20156",
        "outputId": "eb5c83b3-8248-4562-b2b4-3b989e9c43ee"
      },
      "outputs": [
        {
          "name": "stderr",
          "output_type": "stream",
          "text": [
            "[nltk_data] Downloading package punkt to\n",
            "[nltk_data]     C:\\Users\\Tusarjyoti\\AppData\\Roaming\\nltk_data...\n",
            "[nltk_data]   Package punkt is already up-to-date!\n",
            "[nltk_data] Downloading package stopwords to\n",
            "[nltk_data]     C:\\Users\\Tusarjyoti\\AppData\\Roaming\\nltk_data...\n",
            "[nltk_data]   Package stopwords is already up-to-date!\n"
          ]
        }
      ],
      "source": [
        "import nltk   # download stopword for english language using NLTK corpus\n",
        "nltk.download('punkt')\n",
        "nltk.download('stopwords')\n",
        "stopwords = nltk.corpus.stopwords.words('english')"
      ]
    },
    {
      "cell_type": "code",
      "execution_count": null,
      "id": "cd5a329d-cf04-4b7f-9dc5-4b348533ec4e",
      "metadata": {
        "id": "cd5a329d-cf04-4b7f-9dc5-4b348533ec4e"
      },
      "outputs": [],
      "source": [
        "text_df['Summary']=text_df['Summary'].astype(str)   # chenage the Summary Column datatype object to STR"
      ]
    },
    {
      "cell_type": "code",
      "execution_count": null,
      "id": "3b3c1c9b-ee67-4b98-8baa-09c8480316f8",
      "metadata": {
        "id": "3b3c1c9b-ee67-4b98-8baa-09c8480316f8",
        "outputId": "5e505b4f-0883-4b69-b552-717fc05d0ab2"
      },
      "outputs": [
        {
          "data": {
            "text/plain": [
              "Summary      object\n",
              "Sentiment    object\n",
              "sentiment     int64\n",
              "dtype: object"
            ]
          },
          "execution_count": 20,
          "metadata": {},
          "output_type": "execute_result"
        }
      ],
      "source": [
        "text_df.dtypes      #check the all column data types"
      ]
    },
    {
      "cell_type": "code",
      "execution_count": null,
      "id": "2ca5ecf1-753f-4537-9c2f-4bd81f3b8d9f",
      "metadata": {
        "id": "2ca5ecf1-753f-4537-9c2f-4bd81f3b8d9f"
      },
      "outputs": [],
      "source": [
        "def data_processing(text):\n",
        "    text = text.lower()\n",
        "    text = re.sub(r'[^\\w\\s]','',text) # Removes any characters that are not alphanumeric or whitespace from the text.\n",
        "    text_tokens = word_tokenize(text)\n",
        "    filtered_text = [w for w in text_tokens if not w in stop_words]\n",
        "    return \" \".join(filtered_text)"
      ]
    },
    {
      "cell_type": "code",
      "execution_count": null,
      "id": "572f4bf4-69a6-4547-bb06-a5ced53239ba",
      "metadata": {
        "id": "572f4bf4-69a6-4547-bb06-a5ced53239ba"
      },
      "outputs": [],
      "source": [
        "text_df.Summary = text_df['Summary'].apply(data_processing) # Apply the Data processing to the all Tweets"
      ]
    },
    {
      "cell_type": "code",
      "execution_count": null,
      "id": "0a6d9564-8f49-43c9-9dd6-dfe7bde31f00",
      "metadata": {
        "id": "0a6d9564-8f49-43c9-9dd6-dfe7bde31f00"
      },
      "outputs": [],
      "source": [
        "text_df = text_df.drop_duplicates('Summary') # Drop the Duplicates values"
      ]
    },
    {
      "cell_type": "code",
      "execution_count": null,
      "id": "38919d3e-a120-46f7-8266-9ea58f735029",
      "metadata": {
        "id": "38919d3e-a120-46f7-8266-9ea58f735029"
      },
      "outputs": [],
      "source": [
        "stemmer = PorterStemmer()   # Using Porterstemmer to Handel the stem Words\n",
        "def stemming(data):\n",
        "    text = [stemmer.stem(word) for word in data]\n",
        "    return data"
      ]
    },
    {
      "cell_type": "code",
      "execution_count": null,
      "id": "d0e6db35-3e43-4d98-b522-4fdaf31e7107",
      "metadata": {
        "id": "d0e6db35-3e43-4d98-b522-4fdaf31e7107",
        "outputId": "3c4fc14a-cf29-471a-8960-b3a5fdf1264b"
      },
      "outputs": [
        {
          "name": "stderr",
          "output_type": "stream",
          "text": [
            "C:\\Users\\Tusarjyoti\\AppData\\Local\\Temp\\ipykernel_13748\\4160874676.py:1: SettingWithCopyWarning: \n",
            "A value is trying to be set on a copy of a slice from a DataFrame.\n",
            "Try using .loc[row_indexer,col_indexer] = value instead\n",
            "\n",
            "See the caveats in the documentation: https://pandas.pydata.org/pandas-docs/stable/user_guide/indexing.html#returning-a-view-versus-a-copy\n",
            "  text_df['Summary'] = text_df['Summary'].apply(lambda x: stemming(x)) # Apply the Stemming to the all Tweets\n"
          ]
        }
      ],
      "source": [
        "text_df['Summary'] = text_df['Summary'].apply(lambda x: stemming(x)) # Apply the Stemming to the all Tweets"
      ]
    },
    {
      "cell_type": "code",
      "execution_count": null,
      "id": "ad34a1cc-7771-4133-949b-2332334dc774",
      "metadata": {
        "id": "ad34a1cc-7771-4133-949b-2332334dc774",
        "outputId": "e3d9aa16-6c55-4309-8a20-120a24729fe4"
      },
      "outputs": [
        {
          "data": {
            "text/html": [
              "<div>\n",
              "<style scoped>\n",
              "    .dataframe tbody tr th:only-of-type {\n",
              "        vertical-align: middle;\n",
              "    }\n",
              "\n",
              "    .dataframe tbody tr th {\n",
              "        vertical-align: top;\n",
              "    }\n",
              "\n",
              "    .dataframe thead th {\n",
              "        text-align: right;\n",
              "    }\n",
              "</style>\n",
              "<table border=\"1\" class=\"dataframe\">\n",
              "  <thead>\n",
              "    <tr style=\"text-align: right;\">\n",
              "      <th></th>\n",
              "      <th>Summary</th>\n",
              "      <th>Sentiment</th>\n",
              "      <th>sentiment</th>\n",
              "    </tr>\n",
              "  </thead>\n",
              "  <tbody>\n",
              "    <tr>\n",
              "      <th>0</th>\n",
              "      <td>great cooler excellent air flow price amazing ...</td>\n",
              "      <td>positive</td>\n",
              "      <td>1</td>\n",
              "    </tr>\n",
              "    <tr>\n",
              "      <th>1</th>\n",
              "      <td>best budget 2 fit cooler nice cooling</td>\n",
              "      <td>positive</td>\n",
              "      <td>1</td>\n",
              "    </tr>\n",
              "    <tr>\n",
              "      <th>2</th>\n",
              "      <td>quality good power air decent</td>\n",
              "      <td>positive</td>\n",
              "      <td>1</td>\n",
              "    </tr>\n",
              "    <tr>\n",
              "      <th>3</th>\n",
              "      <td>bad product fan</td>\n",
              "      <td>negative</td>\n",
              "      <td>-1</td>\n",
              "    </tr>\n",
              "    <tr>\n",
              "      <th>4</th>\n",
              "      <td>ok ok product</td>\n",
              "      <td>neutral</td>\n",
              "      <td>0</td>\n",
              "    </tr>\n",
              "    <tr>\n",
              "      <th>5</th>\n",
              "      <td>cooler really fantastic provides good air flow...</td>\n",
              "      <td>positive</td>\n",
              "      <td>1</td>\n",
              "    </tr>\n",
              "    <tr>\n",
              "      <th>6</th>\n",
              "      <td>good product</td>\n",
              "      <td>positive</td>\n",
              "      <td>1</td>\n",
              "    </tr>\n",
              "    <tr>\n",
              "      <th>7</th>\n",
              "      <td>nice</td>\n",
              "      <td>positive</td>\n",
              "      <td>1</td>\n",
              "    </tr>\n",
              "    <tr>\n",
              "      <th>8</th>\n",
              "      <td>bad cooler</td>\n",
              "      <td>negative</td>\n",
              "      <td>-1</td>\n",
              "    </tr>\n",
              "    <tr>\n",
              "      <th>9</th>\n",
              "      <td>good</td>\n",
              "      <td>positive</td>\n",
              "      <td>1</td>\n",
              "    </tr>\n",
              "  </tbody>\n",
              "</table>\n",
              "</div>"
            ],
            "text/plain": [
              "                                             Summary Sentiment  sentiment\n",
              "0  great cooler excellent air flow price amazing ...  positive          1\n",
              "1              best budget 2 fit cooler nice cooling  positive          1\n",
              "2                      quality good power air decent  positive          1\n",
              "3                                    bad product fan  negative         -1\n",
              "4                                      ok ok product   neutral          0\n",
              "5  cooler really fantastic provides good air flow...  positive          1\n",
              "6                                       good product  positive          1\n",
              "7                                               nice  positive          1\n",
              "8                                         bad cooler  negative         -1\n",
              "9                                               good  positive          1"
            ]
          },
          "execution_count": 26,
          "metadata": {},
          "output_type": "execute_result"
        }
      ],
      "source": [
        "text_df.head(10) # Final Tweets result after all the Pre-Processing in the Tweets Data"
      ]
    },
    {
      "cell_type": "code",
      "execution_count": null,
      "id": "d1fe9541-ed08-4646-a7bb-abe6bacf0f5b",
      "metadata": {
        "id": "d1fe9541-ed08-4646-a7bb-abe6bacf0f5b",
        "outputId": "285beffb-b2c5-4f6d-808a-69106649502a"
      },
      "outputs": [
        {
          "name": "stderr",
          "output_type": "stream",
          "text": [
            "C:\\Users\\Tusarjyoti\\AppData\\Local\\Temp\\ipykernel_13748\\832759691.py:1: SettingWithCopyWarning: \n",
            "A value is trying to be set on a copy of a slice from a DataFrame\n",
            "\n",
            "See the caveats in the documentation: https://pandas.pydata.org/pandas-docs/stable/user_guide/indexing.html#returning-a-view-versus-a-copy\n",
            "  text_df.drop(['Sentiment'],axis=1,inplace=True)   # Now we drop the Text Sentiment Column\n"
          ]
        }
      ],
      "source": [
        "text_df.drop(['Sentiment'],axis=1,inplace=True)   # Now we drop the Text Sentiment Column"
      ]
    },
    {
      "cell_type": "code",
      "execution_count": null,
      "id": "62b808e1-9416-4075-ae06-d6ccf7d7fd84",
      "metadata": {
        "id": "62b808e1-9416-4075-ae06-d6ccf7d7fd84",
        "outputId": "13cfee2a-446f-46ab-b7f0-b174ed9190ca"
      },
      "outputs": [
        {
          "data": {
            "text/html": [
              "<div>\n",
              "<style scoped>\n",
              "    .dataframe tbody tr th:only-of-type {\n",
              "        vertical-align: middle;\n",
              "    }\n",
              "\n",
              "    .dataframe tbody tr th {\n",
              "        vertical-align: top;\n",
              "    }\n",
              "\n",
              "    .dataframe thead th {\n",
              "        text-align: right;\n",
              "    }\n",
              "</style>\n",
              "<table border=\"1\" class=\"dataframe\">\n",
              "  <thead>\n",
              "    <tr style=\"text-align: right;\">\n",
              "      <th></th>\n",
              "      <th>Summary</th>\n",
              "      <th>sentiment</th>\n",
              "    </tr>\n",
              "  </thead>\n",
              "  <tbody>\n",
              "    <tr>\n",
              "      <th>0</th>\n",
              "      <td>great cooler excellent air flow price amazing ...</td>\n",
              "      <td>1</td>\n",
              "    </tr>\n",
              "    <tr>\n",
              "      <th>1</th>\n",
              "      <td>best budget 2 fit cooler nice cooling</td>\n",
              "      <td>1</td>\n",
              "    </tr>\n",
              "    <tr>\n",
              "      <th>2</th>\n",
              "      <td>quality good power air decent</td>\n",
              "      <td>1</td>\n",
              "    </tr>\n",
              "    <tr>\n",
              "      <th>3</th>\n",
              "      <td>bad product fan</td>\n",
              "      <td>-1</td>\n",
              "    </tr>\n",
              "    <tr>\n",
              "      <th>4</th>\n",
              "      <td>ok ok product</td>\n",
              "      <td>0</td>\n",
              "    </tr>\n",
              "    <tr>\n",
              "      <th>...</th>\n",
              "      <td>...</td>\n",
              "      <td>...</td>\n",
              "    </tr>\n",
              "    <tr>\n",
              "      <th>205038</th>\n",
              "      <td>nice gifted</td>\n",
              "      <td>1</td>\n",
              "    </tr>\n",
              "    <tr>\n",
              "      <th>205040</th>\n",
              "      <td>fabulous looking osm</td>\n",
              "      <td>1</td>\n",
              "    </tr>\n",
              "    <tr>\n",
              "      <th>205043</th>\n",
              "      <td>material good backing super</td>\n",
              "      <td>1</td>\n",
              "    </tr>\n",
              "    <tr>\n",
              "      <th>205046</th>\n",
              "      <td>beautiful set nice</td>\n",
              "      <td>1</td>\n",
              "    </tr>\n",
              "    <tr>\n",
              "      <th>205051</th>\n",
              "      <td>good mixing bowl included one disappointmentan...</td>\n",
              "      <td>0</td>\n",
              "    </tr>\n",
              "  </tbody>\n",
              "</table>\n",
              "<p>85476 rows × 2 columns</p>\n",
              "</div>"
            ],
            "text/plain": [
              "                                                  Summary  sentiment\n",
              "0       great cooler excellent air flow price amazing ...          1\n",
              "1                   best budget 2 fit cooler nice cooling          1\n",
              "2                           quality good power air decent          1\n",
              "3                                         bad product fan         -1\n",
              "4                                           ok ok product          0\n",
              "...                                                   ...        ...\n",
              "205038                                        nice gifted          1\n",
              "205040                               fabulous looking osm          1\n",
              "205043                        material good backing super          1\n",
              "205046                                 beautiful set nice          1\n",
              "205051  good mixing bowl included one disappointmentan...          0\n",
              "\n",
              "[85476 rows x 2 columns]"
            ]
          },
          "execution_count": 28,
          "metadata": {},
          "output_type": "execute_result"
        }
      ],
      "source": [
        "text_df  # fetch the data"
      ]
    },
    {
      "cell_type": "code",
      "execution_count": null,
      "id": "d55a03c8-6761-45b4-a9d6-e6c71038743b",
      "metadata": {
        "id": "d55a03c8-6761-45b4-a9d6-e6c71038743b"
      },
      "outputs": [],
      "source": [
        "vect = CountVectorizer(ngram_range=(1,2)).fit(text_df['Summary'])   # Count vectorizer the dataset"
      ]
    },
    {
      "cell_type": "code",
      "execution_count": null,
      "id": "8eae2315-d23b-4aca-96c6-fe9bf7cd9fcb",
      "metadata": {
        "id": "8eae2315-d23b-4aca-96c6-fe9bf7cd9fcb",
        "outputId": "1a9a9029-d806-4f33-8d96-0f2402bbb49d"
      },
      "outputs": [
        {
          "name": "stdout",
          "output_type": "stream",
          "text": [
            "Number of features: 384099\n",
            "\n",
            "First 20 features:\n",
            " ['000' '000 reading' '00000' '0005' '0005 min' '001' '001 childish' '01'\n",
            " '01 defective' '01 minutes' '01 month' '01 monthi' '01 product'\n",
            " '01 worst' '010' '010 mtr' '0100' '0106' '0106 21installation' '010mtr']\n"
          ]
        }
      ],
      "source": [
        "feature_names = vect.get_feature_names_out()                # get the features name\n",
        "print(\"Number of features: {}\\n\".format(len(feature_names)))\n",
        "print(\"First 20 features:\\n {}\".format(feature_names[:20]))"
      ]
    },
    {
      "cell_type": "code",
      "execution_count": null,
      "id": "8ab2e3d2-7525-4f73-b3d5-03a14d19f4ff",
      "metadata": {
        "id": "8ab2e3d2-7525-4f73-b3d5-03a14d19f4ff"
      },
      "outputs": [],
      "source": [
        "X = text_df['Summary']          # Seperate the X and Y for train test split\n",
        "Y = text_df['sentiment']\n",
        "X = vect.transform(X)"
      ]
    },
    {
      "cell_type": "code",
      "execution_count": null,
      "id": "2da4edc0-a9a8-44b0-b7ec-5b93bcd15494",
      "metadata": {
        "id": "2da4edc0-a9a8-44b0-b7ec-5b93bcd15494"
      },
      "outputs": [],
      "source": [
        "x_train, x_test, y_train, y_test = train_test_split(X, Y, test_size=0.2, random_state=42)"
      ]
    },
    {
      "cell_type": "code",
      "execution_count": null,
      "id": "a391927c-c5e5-4ae7-9bed-f184bbf3bd16",
      "metadata": {
        "id": "a391927c-c5e5-4ae7-9bed-f184bbf3bd16",
        "outputId": "7211de87-d3c0-4345-cc3b-0e3fa47fe3be"
      },
      "outputs": [
        {
          "name": "stdout",
          "output_type": "stream",
          "text": [
            "Size of x_train: (68380, 384099)\n",
            "Size of y_train: (68380,)\n",
            "Size of x_test: (17096, 384099)\n",
            "Size of y_test: (17096,)\n"
          ]
        }
      ],
      "source": [
        "print(\"Size of x_train:\", (x_train.shape))          # check the Train Test Dataset Number\n",
        "print(\"Size of y_train:\", (y_train.shape))\n",
        "print(\"Size of x_test:\", (x_test.shape))\n",
        "print(\"Size of y_test:\", (y_test.shape))"
      ]
    },
    {
      "cell_type": "code",
      "execution_count": null,
      "id": "d57e4a36-4f8e-4161-9cc1-ad06f55d2f4d",
      "metadata": {
        "id": "d57e4a36-4f8e-4161-9cc1-ad06f55d2f4d"
      },
      "outputs": [],
      "source": [
        "import warnings\n",
        "warnings.filterwarnings('ignore')"
      ]
    },
    {
      "cell_type": "code",
      "execution_count": null,
      "id": "8ce964a0-0db8-41a6-9f9d-03cad143427f",
      "metadata": {
        "id": "8ce964a0-0db8-41a6-9f9d-03cad143427f",
        "outputId": "cb22606f-633f-46d9-b041-129d0b774758"
      },
      "outputs": [
        {
          "name": "stdout",
          "output_type": "stream",
          "text": [
            "Test accuracy: 87.00%\n"
          ]
        }
      ],
      "source": [
        "logreg = LogisticRegression()           # Apply the logistics regression model\n",
        "logreg.fit(x_train, y_train)\n",
        "logreg_pred = logreg.predict(x_test)\n",
        "logreg_acc = accuracy_score(logreg_pred, y_test)\n",
        "print(\"Test accuracy: {:.2f}%\".format(logreg_acc*100))"
      ]
    },
    {
      "cell_type": "code",
      "execution_count": null,
      "id": "5841ea6a-7c91-4f10-8d10-6cd5ac874192",
      "metadata": {
        "id": "5841ea6a-7c91-4f10-8d10-6cd5ac874192",
        "outputId": "774193e7-8bd2-4a53-8b1d-6daaf176a509"
      },
      "outputs": [
        {
          "name": "stdout",
          "output_type": "stream",
          "text": [
            "[[ 2583   108   805]\n",
            " [  247   176   571]\n",
            " [  400    92 12114]]\n",
            "\n",
            "\n",
            "              precision    recall  f1-score   support\n",
            "\n",
            "          -1       0.80      0.74      0.77      3496\n",
            "           0       0.47      0.18      0.26       994\n",
            "           1       0.90      0.96      0.93     12606\n",
            "\n",
            "    accuracy                           0.87     17096\n",
            "   macro avg       0.72      0.63      0.65     17096\n",
            "weighted avg       0.85      0.87      0.86     17096\n",
            "\n"
          ]
        }
      ],
      "source": [
        "print(confusion_matrix(y_test, logreg_pred))            # get the confusion matrix\n",
        "print(\"\\n\")\n",
        "print(classification_report(y_test, logreg_pred))"
      ]
    },
    {
      "cell_type": "code",
      "execution_count": null,
      "id": "0968e994-f0ee-432e-b5fe-f5c4a4a5e4be",
      "metadata": {
        "id": "0968e994-f0ee-432e-b5fe-f5c4a4a5e4be",
        "outputId": "538a5b3b-e1d4-4452-a0a3-fa6dd98ef1a5"
      },
      "outputs": [
        {
          "data": {
            "image/png": "[encoded data removed]",
            "text/plain": [
              "<Figure size 640x480 with 2 Axes>"
            ]
          },
          "metadata": {},
          "output_type": "display_data"
        }
      ],
      "source": [
        "style.use('classic')                    # plot the heat map\n",
        "cm = confusion_matrix(y_test, logreg_pred, labels=logreg.classes_)\n",
        "disp = ConfusionMatrixDisplay(confusion_matrix = cm, display_labels=logreg.classes_)\n",
        "disp.plot()\n",
        "plt.show()"
      ]
    },
    {
      "cell_type": "markdown",
      "id": "aba2159d",
      "metadata": {
        "id": "aba2159d"
      },
      "source": [
        "## Apply sample Review to check the Model"
      ]
    },
    {
      "cell_type": "code",
      "execution_count": null,
      "id": "dc3ce947",
      "metadata": {
        "id": "dc3ce947"
      },
      "outputs": [],
      "source": [
        "sample_review = [input()]    # We need to convert the text to list\n",
        "\n",
        "sample_review_vect= vect.transform(sample_review)"
      ]
    },
    {
      "cell_type": "code",
      "execution_count": null,
      "id": "6e85a303",
      "metadata": {
        "id": "6e85a303",
        "outputId": "7b33b0d6-eebc-450c-d99f-d1484ceeaedf"
      },
      "outputs": [
        {
          "name": "stdout",
          "output_type": "stream",
          "text": [
            "\n",
            " 1  for Posotive Review\n",
            "-1  for Negative Review\n",
            " 0  for Neutral Review\n",
            "\n",
            "The prediction is -1\n"
          ]
        }
      ],
      "source": [
        "logreg_pred = logreg.predict(sample_review_vect)\n",
        "\n",
        "print(\"\"\"\n",
        " 1  for Posotive Review\n",
        "-1  for Negative Review\n",
        " 0  for Neutral Review\n",
        "\"\"\")\n",
        "\n",
        "print(f'The prediction is {logreg_pred[0]}')"
      ]
    }
  ],
  "metadata": {
    "kernelspec": {
      "display_name": "Python 3 (ipykernel)",
      "language": "python",
      "name": "python3"
    },
    "language_info": {
      "codemirror_mode": {
        "name": "ipython",
        "version": 3
      },
      "file_extension": ".py",
      "mimetype": "text/x-python",
      "name": "python",
      "nbconvert_exporter": "python",
      "pygments_lexer": "ipython3",
      "version": "3.12.3"
    },
    "colab": {
      "provenance": []
    }
  },
  "nbformat": 4,
  "nbformat_minor": 5
}